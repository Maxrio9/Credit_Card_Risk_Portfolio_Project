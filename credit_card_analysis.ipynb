{
 "cells": [
  {
   "cell_type": "markdown",
   "metadata": {},
   "source": [
    "### Table of contents\n",
    "\n"
   ]
  },
  {
   "cell_type": "markdown",
   "metadata": {},
   "source": [
    "### Goals\n",
    "\n",
    "This dataset contains information on credit card users and if they are considered to be at risk of default.\n",
    "\n",
    "We are only going to be using the `test_data.csv` for this project.\n",
    "\n",
    "The analysis will roughtly follow the following outline:\n",
    "- get acquainted with the data\n",
    "- clean up the data\n",
    "- Find questions for analysis\n",
    "- Analyse varibles and relationsships to find patterns and answer the questions"
   ]
  },
  {
   "cell_type": "markdown",
   "metadata": {},
   "source": [
    "### Data\n",
    "\n",
    "The data for this analysis was sourced from Kaggle\n",
    "\n",
    "Source: [https://www.kaggle.com/datasets/tanayatipre/car-price-prediction-dataset](https://www.kaggle.com/datasets/tanayatipre/car-price-prediction-dataset)\n",
    "\n",
    "A first insight on the dataset can be gained from Kaggle"
   ]
  },
  {
   "cell_type": "markdown",
   "metadata": {},
   "source": [
    "#### Loading the data\n",
    "\n",
    "Import the necessary libraries and datasets"
   ]
  },
  {
   "cell_type": "code",
   "execution_count": 166,
   "metadata": {},
   "outputs": [],
   "source": [
    "import pandas as pd\n",
    "import matplotlib.pyplot as plt\n",
    "import numpy as np\n",
    "import seaborn as sns"
   ]
  },
  {
   "cell_type": "code",
   "execution_count": 167,
   "metadata": {},
   "outputs": [],
   "source": [
    "credit_card_unclean = pd.read_csv(\"train_data.csv\")"
   ]
  },
  {
   "cell_type": "markdown",
   "metadata": {},
   "source": [
    "#### Data Outline\n",
    "\n",
    "- We have 20 `columns`and 29165 `rows`\n",
    "- Job title is the only column with missing / null values\n",
    "- Age is recorded in days backwards\n",
    "- Employment lenght is recorded in days backwards, negative if unemployed\n",
    "- Account age is recorded in years backwards\n",
    "- around 1.7% of accounts are at risk\n",
    "- Has mobile phone is only 1, so it contains no information"
   ]
  },
  {
   "cell_type": "code",
   "execution_count": 168,
   "metadata": {},
   "outputs": [
    {
     "name": "stdout",
     "output_type": "stream",
     "text": [
      "<class 'pandas.core.frame.DataFrame'>\n",
      "RangeIndex: 29165 entries, 0 to 29164\n",
      "Data columns (total 20 columns):\n",
      " #   Column               Non-Null Count  Dtype  \n",
      "---  ------               --------------  -----  \n",
      " 0   ID                   29165 non-null  int64  \n",
      " 1   Gender               29165 non-null  object \n",
      " 2   Has a car            29165 non-null  object \n",
      " 3   Has a property       29165 non-null  object \n",
      " 4   Children count       29165 non-null  int64  \n",
      " 5   Income               29165 non-null  float64\n",
      " 6   Employment status    29165 non-null  object \n",
      " 7   Education level      29165 non-null  object \n",
      " 8   Marital status       29165 non-null  object \n",
      " 9   Dwelling             29165 non-null  object \n",
      " 10  Age                  29165 non-null  int64  \n",
      " 11  Employment length    29165 non-null  int64  \n",
      " 12  Has a mobile phone   29165 non-null  int64  \n",
      " 13  Has a work phone     29165 non-null  int64  \n",
      " 14  Has a phone          29165 non-null  int64  \n",
      " 15  Has an email         29165 non-null  int64  \n",
      " 16  Job title            20138 non-null  object \n",
      " 17  Family member count  29165 non-null  float64\n",
      " 18  Account age          29165 non-null  float64\n",
      " 19  Is high risk         29165 non-null  int64  \n",
      "dtypes: float64(3), int64(9), object(8)\n",
      "memory usage: 4.5+ MB\n"
     ]
    }
   ],
   "source": [
    "credit_card_unclean.info()"
   ]
  },
  {
   "cell_type": "code",
   "execution_count": 169,
   "metadata": {},
   "outputs": [
    {
     "data": {
      "text/plain": [
       "ID                        0\n",
       "Gender                    0\n",
       "Has a car                 0\n",
       "Has a property            0\n",
       "Children count            0\n",
       "Income                    0\n",
       "Employment status         0\n",
       "Education level           0\n",
       "Marital status            0\n",
       "Dwelling                  0\n",
       "Age                       0\n",
       "Employment length         0\n",
       "Has a mobile phone        0\n",
       "Has a work phone          0\n",
       "Has a phone               0\n",
       "Has an email              0\n",
       "Job title              9027\n",
       "Family member count       0\n",
       "Account age               0\n",
       "Is high risk              0\n",
       "dtype: int64"
      ]
     },
     "execution_count": 169,
     "metadata": {},
     "output_type": "execute_result"
    }
   ],
   "source": [
    "credit_card_unclean.isnull().sum()"
   ]
  },
  {
   "cell_type": "code",
   "execution_count": 170,
   "metadata": {},
   "outputs": [
    {
     "data": {
      "text/html": [
       "<div>\n",
       "<style scoped>\n",
       "    .dataframe tbody tr th:only-of-type {\n",
       "        vertical-align: middle;\n",
       "    }\n",
       "\n",
       "    .dataframe tbody tr th {\n",
       "        vertical-align: top;\n",
       "    }\n",
       "\n",
       "    .dataframe thead th {\n",
       "        text-align: right;\n",
       "    }\n",
       "</style>\n",
       "<table border=\"1\" class=\"dataframe\">\n",
       "  <thead>\n",
       "    <tr style=\"text-align: right;\">\n",
       "      <th></th>\n",
       "      <th>ID</th>\n",
       "      <th>Children count</th>\n",
       "      <th>Income</th>\n",
       "      <th>Age</th>\n",
       "      <th>Employment length</th>\n",
       "      <th>Has a mobile phone</th>\n",
       "      <th>Has a work phone</th>\n",
       "      <th>Has a phone</th>\n",
       "      <th>Has an email</th>\n",
       "      <th>Family member count</th>\n",
       "      <th>Account age</th>\n",
       "      <th>Is high risk</th>\n",
       "    </tr>\n",
       "  </thead>\n",
       "  <tbody>\n",
       "    <tr>\n",
       "      <th>count</th>\n",
       "      <td>2.916500e+04</td>\n",
       "      <td>29165.000000</td>\n",
       "      <td>2.916500e+04</td>\n",
       "      <td>29165.000000</td>\n",
       "      <td>29165.000000</td>\n",
       "      <td>29165.0</td>\n",
       "      <td>29165.000000</td>\n",
       "      <td>29165.000000</td>\n",
       "      <td>29165.000000</td>\n",
       "      <td>29165.000000</td>\n",
       "      <td>29165.000000</td>\n",
       "      <td>29165.000000</td>\n",
       "    </tr>\n",
       "    <tr>\n",
       "      <th>mean</th>\n",
       "      <td>5.078232e+06</td>\n",
       "      <td>0.430790</td>\n",
       "      <td>1.868904e+05</td>\n",
       "      <td>-15979.477490</td>\n",
       "      <td>59257.761255</td>\n",
       "      <td>1.0</td>\n",
       "      <td>0.224310</td>\n",
       "      <td>0.294977</td>\n",
       "      <td>0.090279</td>\n",
       "      <td>2.197531</td>\n",
       "      <td>-26.137734</td>\n",
       "      <td>0.017110</td>\n",
       "    </tr>\n",
       "    <tr>\n",
       "      <th>std</th>\n",
       "      <td>4.182400e+04</td>\n",
       "      <td>0.741882</td>\n",
       "      <td>1.014096e+05</td>\n",
       "      <td>4202.997485</td>\n",
       "      <td>137655.883458</td>\n",
       "      <td>0.0</td>\n",
       "      <td>0.417134</td>\n",
       "      <td>0.456040</td>\n",
       "      <td>0.286587</td>\n",
       "      <td>0.912189</td>\n",
       "      <td>16.486702</td>\n",
       "      <td>0.129682</td>\n",
       "    </tr>\n",
       "    <tr>\n",
       "      <th>min</th>\n",
       "      <td>5.008804e+06</td>\n",
       "      <td>0.000000</td>\n",
       "      <td>2.700000e+04</td>\n",
       "      <td>-25152.000000</td>\n",
       "      <td>-15713.000000</td>\n",
       "      <td>1.0</td>\n",
       "      <td>0.000000</td>\n",
       "      <td>0.000000</td>\n",
       "      <td>0.000000</td>\n",
       "      <td>1.000000</td>\n",
       "      <td>-60.000000</td>\n",
       "      <td>0.000000</td>\n",
       "    </tr>\n",
       "    <tr>\n",
       "      <th>25%</th>\n",
       "      <td>5.042047e+06</td>\n",
       "      <td>0.000000</td>\n",
       "      <td>1.215000e+05</td>\n",
       "      <td>-19444.000000</td>\n",
       "      <td>-3153.000000</td>\n",
       "      <td>1.0</td>\n",
       "      <td>0.000000</td>\n",
       "      <td>0.000000</td>\n",
       "      <td>0.000000</td>\n",
       "      <td>2.000000</td>\n",
       "      <td>-39.000000</td>\n",
       "      <td>0.000000</td>\n",
       "    </tr>\n",
       "    <tr>\n",
       "      <th>50%</th>\n",
       "      <td>5.074666e+06</td>\n",
       "      <td>0.000000</td>\n",
       "      <td>1.575000e+05</td>\n",
       "      <td>-15565.000000</td>\n",
       "      <td>-1557.000000</td>\n",
       "      <td>1.0</td>\n",
       "      <td>0.000000</td>\n",
       "      <td>0.000000</td>\n",
       "      <td>0.000000</td>\n",
       "      <td>2.000000</td>\n",
       "      <td>-24.000000</td>\n",
       "      <td>0.000000</td>\n",
       "    </tr>\n",
       "    <tr>\n",
       "      <th>75%</th>\n",
       "      <td>5.114629e+06</td>\n",
       "      <td>1.000000</td>\n",
       "      <td>2.250000e+05</td>\n",
       "      <td>-12475.000000</td>\n",
       "      <td>-412.000000</td>\n",
       "      <td>1.0</td>\n",
       "      <td>0.000000</td>\n",
       "      <td>1.000000</td>\n",
       "      <td>0.000000</td>\n",
       "      <td>3.000000</td>\n",
       "      <td>-12.000000</td>\n",
       "      <td>0.000000</td>\n",
       "    </tr>\n",
       "    <tr>\n",
       "      <th>max</th>\n",
       "      <td>5.150485e+06</td>\n",
       "      <td>19.000000</td>\n",
       "      <td>1.575000e+06</td>\n",
       "      <td>-7705.000000</td>\n",
       "      <td>365243.000000</td>\n",
       "      <td>1.0</td>\n",
       "      <td>1.000000</td>\n",
       "      <td>1.000000</td>\n",
       "      <td>1.000000</td>\n",
       "      <td>20.000000</td>\n",
       "      <td>0.000000</td>\n",
       "      <td>1.000000</td>\n",
       "    </tr>\n",
       "  </tbody>\n",
       "</table>\n",
       "</div>"
      ],
      "text/plain": [
       "                 ID  Children count        Income           Age  \\\n",
       "count  2.916500e+04    29165.000000  2.916500e+04  29165.000000   \n",
       "mean   5.078232e+06        0.430790  1.868904e+05 -15979.477490   \n",
       "std    4.182400e+04        0.741882  1.014096e+05   4202.997485   \n",
       "min    5.008804e+06        0.000000  2.700000e+04 -25152.000000   \n",
       "25%    5.042047e+06        0.000000  1.215000e+05 -19444.000000   \n",
       "50%    5.074666e+06        0.000000  1.575000e+05 -15565.000000   \n",
       "75%    5.114629e+06        1.000000  2.250000e+05 -12475.000000   \n",
       "max    5.150485e+06       19.000000  1.575000e+06  -7705.000000   \n",
       "\n",
       "       Employment length  Has a mobile phone  Has a work phone   Has a phone  \\\n",
       "count       29165.000000             29165.0      29165.000000  29165.000000   \n",
       "mean        59257.761255                 1.0          0.224310      0.294977   \n",
       "std        137655.883458                 0.0          0.417134      0.456040   \n",
       "min        -15713.000000                 1.0          0.000000      0.000000   \n",
       "25%         -3153.000000                 1.0          0.000000      0.000000   \n",
       "50%         -1557.000000                 1.0          0.000000      0.000000   \n",
       "75%          -412.000000                 1.0          0.000000      1.000000   \n",
       "max        365243.000000                 1.0          1.000000      1.000000   \n",
       "\n",
       "       Has an email  Family member count   Account age  Is high risk  \n",
       "count  29165.000000         29165.000000  29165.000000  29165.000000  \n",
       "mean       0.090279             2.197531    -26.137734      0.017110  \n",
       "std        0.286587             0.912189     16.486702      0.129682  \n",
       "min        0.000000             1.000000    -60.000000      0.000000  \n",
       "25%        0.000000             2.000000    -39.000000      0.000000  \n",
       "50%        0.000000             2.000000    -24.000000      0.000000  \n",
       "75%        0.000000             3.000000    -12.000000      0.000000  \n",
       "max        1.000000            20.000000      0.000000      1.000000  "
      ]
     },
     "execution_count": 170,
     "metadata": {},
     "output_type": "execute_result"
    }
   ],
   "source": [
    "credit_card_unclean.describe()"
   ]
  },
  {
   "cell_type": "code",
   "execution_count": 171,
   "metadata": {},
   "outputs": [
    {
     "data": {
      "text/plain": [
       "ID                     29165\n",
       "Gender                     2\n",
       "Has a car                  2\n",
       "Has a property             2\n",
       "Children count             9\n",
       "Income                   259\n",
       "Employment status          5\n",
       "Education level            5\n",
       "Marital status             5\n",
       "Dwelling                   6\n",
       "Age                     6794\n",
       "Employment length       3483\n",
       "Has a mobile phone         1\n",
       "Has a work phone           2\n",
       "Has a phone                2\n",
       "Has an email               2\n",
       "Job title                 18\n",
       "Family member count       10\n",
       "Account age               61\n",
       "Is high risk               2\n",
       "dtype: int64"
      ]
     },
     "execution_count": 171,
     "metadata": {},
     "output_type": "execute_result"
    }
   ],
   "source": [
    "credit_card_unclean.nunique()"
   ]
  },
  {
   "cell_type": "markdown",
   "metadata": {},
   "source": [
    "### Data Cleaning"
   ]
  },
  {
   "cell_type": "markdown",
   "metadata": {},
   "source": [
    "#### Remove unnessesary information\n",
    "\n",
    "`Has a mobile phone` contains no information and will be removed"
   ]
  },
  {
   "cell_type": "code",
   "execution_count": 172,
   "metadata": {},
   "outputs": [
    {
     "data": {
      "text/plain": [
       "Index(['ID', 'Gender', 'Has a car', 'Has a property', 'Children count',\n",
       "       'Income', 'Employment status', 'Education level', 'Marital status',\n",
       "       'Dwelling', 'Age', 'Employment length', 'Has a work phone',\n",
       "       'Has a phone', 'Has an email', 'Job title', 'Family member count',\n",
       "       'Account age', 'Is high risk'],\n",
       "      dtype='object')"
      ]
     },
     "execution_count": 172,
     "metadata": {},
     "output_type": "execute_result"
    }
   ],
   "source": [
    "credit_card_unclean.drop(\"Has a mobile phone\", axis = 1, inplace = True)\n",
    "\n",
    "credit_card_unclean.columns"
   ]
  },
  {
   "cell_type": "markdown",
   "metadata": {},
   "source": [
    "#### Rename Columns\n",
    "\n",
    "The colums have a lot of capital letters, spaces and unnesserary words.\n",
    "\n",
    "We will give the `columns` clean names that are better for analysis."
   ]
  },
  {
   "cell_type": "code",
   "execution_count": 173,
   "metadata": {},
   "outputs": [
    {
     "data": {
      "text/plain": [
       "Index(['id', 'gender', 'car', 'property', 'children', 'income',\n",
       "       'employment_status', 'education', 'marital_status', 'dwelling', 'age',\n",
       "       'employment_length', 'work_phone', 'phone', 'email', 'job',\n",
       "       'family_size', 'account_age', 'high_risk'],\n",
       "      dtype='object')"
      ]
     },
     "execution_count": 173,
     "metadata": {},
     "output_type": "execute_result"
    }
   ],
   "source": [
    "credit_card_unclean.columns = ['id', 'gender', 'car', 'property', 'children',\n",
    "       'income', 'employment_status', 'education', 'marital_status',\n",
    "       'dwelling', 'age', 'employment_length', 'work_phone',\n",
    "       'phone', 'email', 'job', 'family_size',\n",
    "       'account_age', 'high_risk']\n",
    "\n",
    "credit_card_unclean.columns"
   ]
  },
  {
   "cell_type": "markdown",
   "metadata": {},
   "source": [
    "#### Format Columns\n",
    "\n",
    "- Turn columns with timeline by day to year\n",
    "- `employment_length`, `age` and `account_age` from negative to positive"
   ]
  },
  {
   "cell_type": "code",
   "execution_count": 174,
   "metadata": {},
   "outputs": [
    {
     "data": {
      "text/plain": [
       "count    29165.000000\n",
       "mean      -162.238908\n",
       "std        376.881269\n",
       "min       -999.980835\n",
       "25%          1.127995\n",
       "50%          4.262834\n",
       "75%          8.632444\n",
       "max         43.019849\n",
       "Name: employment_length, dtype: float64"
      ]
     },
     "execution_count": 174,
     "metadata": {},
     "output_type": "execute_result"
    }
   ],
   "source": [
    "credit_card_unclean.age = -credit_card_unclean.age / 365.25\n",
    "credit_card_unclean.account_age = -credit_card_unclean.account_age\n",
    "credit_card_unclean.employment_length = -credit_card_unclean.employment_length / 365.25\n",
    "\n",
    "credit_card_unclean.employment_length.describe()"
   ]
  },
  {
   "cell_type": "markdown",
   "metadata": {},
   "source": [
    "#### Remove false data\n",
    "\n",
    "In the `employment_length` column everyone unemployed has been unemployed for 1000 years. Let's add a column `employed` to see if someone is employed or not and set the unemployed data in `employment_length` to 0."
   ]
  },
  {
   "cell_type": "code",
   "execution_count": 178,
   "metadata": {},
   "outputs": [
    {
     "data": {
      "text/plain": [
       "count     29165\n",
       "unique        2\n",
       "top       False\n",
       "freq      24257\n",
       "Name: employed, dtype: object"
      ]
     },
     "execution_count": 178,
     "metadata": {},
     "output_type": "execute_result"
    }
   ],
   "source": [
    "credit_card_unclean[\"employed\"] = credit_card_unclean.employment_length < 0\n",
    "# credit_card_unclean.employment_length = \n",
    "\n",
    "credit_card_unclean.employed.describe()"
   ]
  }
 ],
 "metadata": {
  "kernelspec": {
   "display_name": "Python 3",
   "language": "python",
   "name": "python3"
  },
  "language_info": {
   "codemirror_mode": {
    "name": "ipython",
    "version": 3
   },
   "file_extension": ".py",
   "mimetype": "text/x-python",
   "name": "python",
   "nbconvert_exporter": "python",
   "pygments_lexer": "ipython3",
   "version": "3.10.2"
  }
 },
 "nbformat": 4,
 "nbformat_minor": 2
}
